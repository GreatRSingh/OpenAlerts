{
 "cells": [
  {
   "cell_type": "code",
   "execution_count": 2,
   "metadata": {},
   "outputs": [],
   "source": [
    "import yfinance as yf\n",
    "\n",
    "bank_nifty = yf.Ticker(\"^NSEBANK\")"
   ]
  },
  {
   "cell_type": "code",
   "execution_count": 3,
   "metadata": {},
   "outputs": [
    {
     "ename": "ModuleNotFoundError",
     "evalue": "No module named 'openalerts'",
     "output_type": "error",
     "traceback": [
      "\u001b[1;31m---------------------------------------------------------------------------\u001b[0m",
      "\u001b[1;31mModuleNotFoundError\u001b[0m                       Traceback (most recent call last)",
      "Cell \u001b[1;32mIn[3], line 6\u001b[0m\n\u001b[0;32m      3\u001b[0m PERIOD_1 \u001b[38;5;241m=\u001b[39m \u001b[38;5;241m12\u001b[39m\n\u001b[0;32m      4\u001b[0m PERIOD_2 \u001b[38;5;241m=\u001b[39m \u001b[38;5;241m26\u001b[39m\n\u001b[1;32m----> 6\u001b[0m \u001b[38;5;28;01mfrom\u001b[39;00m \u001b[38;5;21;01mopenalerts\u001b[39;00m\u001b[38;5;21;01m.\u001b[39;00m\u001b[38;5;21;01mcore\u001b[39;00m \u001b[38;5;28;01mimport\u001b[39;00m macd\n\u001b[0;32m      7\u001b[0m close, mov_1, mov_2 \u001b[38;5;241m=\u001b[39m macd(close, PERIOD_1, PERIOD_2)\n\u001b[0;32m      9\u001b[0m \u001b[38;5;28;01mimport\u001b[39;00m \u001b[38;5;21;01mmatplotlib\u001b[39;00m\u001b[38;5;21;01m.\u001b[39;00m\u001b[38;5;21;01mpyplot\u001b[39;00m \u001b[38;5;28;01mas\u001b[39;00m \u001b[38;5;21;01mplt\u001b[39;00m\n",
      "\u001b[1;31mModuleNotFoundError\u001b[0m: No module named 'openalerts'"
     ]
    }
   ],
   "source": [
    "data = bank_nifty.history(period=\"max\", interval=\"5m\", start=\"2023-12-08\")\n",
    "close = data['Close'].to_numpy()\n",
    "PERIOD_1 = 12\n",
    "PERIOD_2 = 26\n",
    "\n",
    "from openalerts.core import macd\n",
    "close, mov_1, mov_2 = macd(close, PERIOD_1, PERIOD_2)\n",
    "\n",
    "import matplotlib.pyplot as plt\n",
    "\n",
    "time_whole_day = int(60*6.25/5)\n",
    "\n",
    "date_time = data.index[-len(mov_2):]\n",
    "plt.plot(date_time[-2*time_whole_day: -time_whole_day], close[-2*time_whole_day: -time_whole_day])\n",
    "plt.plot(date_time[-2*time_whole_day: -time_whole_day], mov_1[-2*time_whole_day: -time_whole_day], color='green')\n",
    "plt.plot(date_time[-2*time_whole_day: -time_whole_day], mov_2[-2*time_whole_day: -time_whole_day], color='red')\n",
    "\n",
    "plt.show()\n",
    "print(close[-1])"
   ]
  },
  {
   "cell_type": "code",
   "execution_count": null,
   "metadata": {},
   "outputs": [],
   "source": [
    "\"\"\"\"\n",
    "Ultimate Oscillator\n",
    "Source: http://stockcharts.com/school/doku.php?id=chart_school:technical_indicators:ultimate_oscillator\n",
    "Params: \n",
    "    data: pandas DataFrame\n",
    "\tperiod_1: the period of the first average (7 days recommended)\n",
    "\tperiod_2: the period of the second average (14 days recommended)\n",
    "\tperiod_3: the period of the third average (28 days recommended)\n",
    "\thigh_col: the name of the HIGH values column\n",
    "\tlow_col: the name of the LOW values column\n",
    "\tclose_col: the name of the CLOSE values column\n",
    "    \n",
    "Returns:\n",
    "    copy of 'data' DataFrame with 'ultimate_oscillator' column added\n",
    "\"\"\"\n",
    "def ultimate_oscillator(data, period_1=7,period_2=14, period_3=28, high_col='High', low_col='Low', close_col='Close'):\n",
    "    data['ultimate_oscillator'] = 0.\n",
    "    data['uo_bp'] = 0.\n",
    "    data['uo_tr'] = 0.\n",
    "    data['uo_avg_1'] = 0.\n",
    "    data['uo_avg_2'] = 0.\n",
    "    data['uo_avg_3'] = 0.\n",
    "\n",
    "    for index,row in data.iterrows():\n",
    "        if index > 0:\n",
    "                           \n",
    "            bp = row[close_col] - min(row[low_col], data.at[index-1, close_col])\n",
    "            tr = max(row[high_col], data.at[index-1, close_col]) - min(row[low_col], data.at[index-1, close_col])\n",
    "            \n",
    "            data.set_value(index, 'uo_bp', bp)\n",
    "            data.set_value(index, 'uo_tr', tr)\n",
    "            if index >= period_1:\n",
    "                uo_avg_1 = sum(data['uo_bp'][index-period_1:index]) / sum(data['uo_tr'][index-period_1:index])\n",
    "                data.set_value(index, 'uo_avg_1', uo_avg_1)\n",
    "            if index >= period_2:\n",
    "                uo_avg_2 = sum(data['uo_bp'][index-period_2:index]) / sum(data['uo_tr'][index-period_2:index])\n",
    "                data.set_value(index, 'uo_avg_2', uo_avg_2)\n",
    "            if index >= period_3:\n",
    "                uo_avg_3 = sum(data['uo_bp'][index-period_3:index]) / sum(data['uo_tr'][index-period_3:index])\n",
    "                data.set_value(index, 'uo_avg_3', uo_avg_3)\n",
    "                uo = (4 * uo_avg_1 + 2 * uo_avg_2 + uo_avg_3) / 7\n",
    "                data.set_value(index, 'ultimate_oscillator', uo)\n",
    "\n",
    "    data = data.drop(['uo_bp', 'uo_tr', 'uo_avg_1', 'uo_avg_2', 'uo_avg_3'], axis=1)\n",
    "        \n",
    "    return data   "
   ]
  }
 ],
 "metadata": {
  "kernelspec": {
   "display_name": "openalerts",
   "language": "python",
   "name": "python3"
  },
  "language_info": {
   "codemirror_mode": {
    "name": "ipython",
    "version": 3
   },
   "file_extension": ".py",
   "mimetype": "text/x-python",
   "name": "python",
   "nbconvert_exporter": "python",
   "pygments_lexer": "ipython3",
   "version": "3.11.5"
  }
 },
 "nbformat": 4,
 "nbformat_minor": 2
}
